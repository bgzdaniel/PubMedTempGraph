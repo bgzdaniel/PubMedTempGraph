{
 "cells": [
  {
   "cell_type": "code",
   "execution_count": 1,
   "id": "cc3fa4a7",
   "metadata": {},
   "outputs": [],
   "source": [
    "import pandas as pd"
   ]
  },
  {
   "cell_type": "code",
   "execution_count": 2,
   "id": "fc17c694",
   "metadata": {},
   "outputs": [
    {
     "data": {
      "text/html": [
       "<pre style=\"white-space:pre;overflow-x:auto;line-height:normal;font-family:Menlo,'DejaVu Sans Mono',consolas,'Courier New',monospace\"></pre>\n"
      ],
      "text/plain": []
     },
     "metadata": {},
     "output_type": "display_data"
    },
    {
     "data": {
      "text/html": [
       "<div>\n",
       "<style scoped>\n",
       "    .dataframe tbody tr th:only-of-type {\n",
       "        vertical-align: middle;\n",
       "    }\n",
       "\n",
       "    .dataframe tbody tr th {\n",
       "        vertical-align: top;\n",
       "    }\n",
       "\n",
       "    .dataframe thead th {\n",
       "        text-align: right;\n",
       "    }\n",
       "</style>\n",
       "<table border=\"1\" class=\"dataframe\">\n",
       "  <thead>\n",
       "    <tr style=\"text-align: right;\">\n",
       "      <th></th>\n",
       "      <th>question_type</th>\n",
       "      <th>abstract</th>\n",
       "      <th>generated_question</th>\n",
       "      <th>answer_generation_prompt</th>\n",
       "      <th>answer_generation_filled_prompt</th>\n",
       "      <th>generated_answer</th>\n",
       "      <th>notes</th>\n",
       "    </tr>\n",
       "  </thead>\n",
       "  <tbody>\n",
       "    <tr>\n",
       "      <th>0</th>\n",
       "      <td>\"factoid\"</td>\n",
       "      <td>Given the current status of coronavirus diseas...</td>\n",
       "      <td>What is the relationship between a covid-10 in...</td>\n",
       "      <td>You are an AI assistant that answers questions...</td>\n",
       "      <td>NaN</td>\n",
       "      <td>NaN</td>\n",
       "      <td>NaN</td>\n",
       "    </tr>\n",
       "    <tr>\n",
       "      <th>1</th>\n",
       "      <td>\"yes/no\"</td>\n",
       "      <td>Purpose: This study aimed to synthesize qualit...</td>\n",
       "      <td>Can female adolescents with a history of anxie...</td>\n",
       "      <td>You are an AI assistant that answers questions...</td>\n",
       "      <td>NaN</td>\n",
       "      <td>NaN</td>\n",
       "      <td>NaN</td>\n",
       "    </tr>\n",
       "    <tr>\n",
       "      <th>2</th>\n",
       "      <td>\"yes/no\"</td>\n",
       "      <td>Introduction: Oropharyngeal dysphagia (OD) is ...</td>\n",
       "      <td>Could the detection of oropharyngeal dysphagia...</td>\n",
       "      <td>You are an AI assistant that answers questions...</td>\n",
       "      <td>NaN</td>\n",
       "      <td>NaN</td>\n",
       "      <td>NaN</td>\n",
       "    </tr>\n",
       "    <tr>\n",
       "      <th>3</th>\n",
       "      <td>descriptive</td>\n",
       "      <td>Wandering spleen is a cause of acute surgical ...</td>\n",
       "      <td>Describe a wandering spleen</td>\n",
       "      <td>You are an AI assistant that answers questions...</td>\n",
       "      <td>NaN</td>\n",
       "      <td>NaN</td>\n",
       "      <td>NaN</td>\n",
       "    </tr>\n",
       "    <tr>\n",
       "      <th>4</th>\n",
       "      <td>\"factoid\"</td>\n",
       "      <td>Lipodystrophy syndromes are rare, heterogeneou...</td>\n",
       "      <td>What is Lipodystrophy?</td>\n",
       "      <td>You are an AI assistant that answers questions...</td>\n",
       "      <td>NaN</td>\n",
       "      <td>NaN</td>\n",
       "      <td>NaN</td>\n",
       "    </tr>\n",
       "  </tbody>\n",
       "</table>\n",
       "</div>"
      ],
      "text/plain": [
       "\n",
       "  question_type                                           abstract  \\\n",
       "\u001b[1;36m0\u001b[0m     \u001b[32m\"factoid\"\u001b[0m  Given the current status of coronavirus diseas\u001b[33m...\u001b[0m   \n",
       "\u001b[1;36m1\u001b[0m      \u001b[32m\"yes/no\"\u001b[0m  Purpose: This study aimed to synthesize qualit\u001b[33m...\u001b[0m   \n",
       "\u001b[1;36m2\u001b[0m      \u001b[32m\"yes/no\"\u001b[0m  Introduction: Oropharyngeal dysphagia \u001b[1m(\u001b[0mOD\u001b[1m)\u001b[0m is \u001b[33m...\u001b[0m   \n",
       "\u001b[1;36m3\u001b[0m   descriptive  Wandering spleen is a cause of acute surgical \u001b[33m...\u001b[0m   \n",
       "\u001b[1;36m4\u001b[0m     \u001b[32m\"factoid\"\u001b[0m  Lipodystrophy syndromes are rare, heterogeneou\u001b[33m...\u001b[0m   \n",
       "\n",
       "                                  generated_question  \\\n",
       "\u001b[1;36m0\u001b[0m  What is the relationship between a covid-\u001b[1;36m10\u001b[0m in\u001b[33m...\u001b[0m   \n",
       "\u001b[1;36m1\u001b[0m  Can female adolescents with a history of anxie\u001b[33m...\u001b[0m   \n",
       "\u001b[1;36m2\u001b[0m  Could the detection of oropharyngeal dysphagia\u001b[33m...\u001b[0m   \n",
       "\u001b[1;36m3\u001b[0m                        Describe a wandering spleen   \n",
       "\u001b[1;36m4\u001b[0m                             What is Lipodystrophy?   \n",
       "\n",
       "                            answer_generation_prompt  \\\n",
       "\u001b[1;36m0\u001b[0m  You are an AI assistant that answers questions\u001b[33m...\u001b[0m   \n",
       "\u001b[1;36m1\u001b[0m  You are an AI assistant that answers questions\u001b[33m...\u001b[0m   \n",
       "\u001b[1;36m2\u001b[0m  You are an AI assistant that answers questions\u001b[33m...\u001b[0m   \n",
       "\u001b[1;36m3\u001b[0m  You are an AI assistant that answers questions\u001b[33m...\u001b[0m   \n",
       "\u001b[1;36m4\u001b[0m  You are an AI assistant that answers questions\u001b[33m...\u001b[0m   \n",
       "\n",
       "   answer_generation_filled_prompt  generated_answer  notes  \n",
       "\u001b[1;36m0\u001b[0m                              NaN               NaN    NaN  \n",
       "\u001b[1;36m1\u001b[0m                              NaN               NaN    NaN  \n",
       "\u001b[1;36m2\u001b[0m                              NaN               NaN    NaN  \n",
       "\u001b[1;36m3\u001b[0m                              NaN               NaN    NaN  \n",
       "\u001b[1;36m4\u001b[0m                              NaN               NaN    NaN  "
      ]
     },
     "execution_count": 2,
     "metadata": {},
     "output_type": "execute_result"
    }
   ],
   "source": [
    "questions = pd.read_csv(\"EP_cleaned_semi_generated_answer_pairs - answer_generation_prompts.csv\")\n",
    "questions.head()"
   ]
  },
  {
   "cell_type": "code",
   "execution_count": 13,
   "id": "72f8818f",
   "metadata": {},
   "outputs": [],
   "source": [
    "questions[\"answer_generation_filled_prompt\"] = [f\"{questions['answer_generation_prompt'][ind]} Context: {questions['abstract'][ind]}. Question: {questions['generated_question'][ind]}\" for ind in questions.index]"
   ]
  },
  {
   "cell_type": "code",
   "execution_count": 14,
   "id": "8b28b14e",
   "metadata": {},
   "outputs": [
    {
     "data": {
      "text/html": [
       "<pre style=\"white-space:pre;overflow-x:auto;line-height:normal;font-family:Menlo,'DejaVu Sans Mono',consolas,'Courier New',monospace\"></pre>\n"
      ],
      "text/plain": []
     },
     "metadata": {},
     "output_type": "display_data"
    },
    {
     "data": {
      "text/html": [
       "<div>\n",
       "<style scoped>\n",
       "    .dataframe tbody tr th:only-of-type {\n",
       "        vertical-align: middle;\n",
       "    }\n",
       "\n",
       "    .dataframe tbody tr th {\n",
       "        vertical-align: top;\n",
       "    }\n",
       "\n",
       "    .dataframe thead th {\n",
       "        text-align: right;\n",
       "    }\n",
       "</style>\n",
       "<table border=\"1\" class=\"dataframe\">\n",
       "  <thead>\n",
       "    <tr style=\"text-align: right;\">\n",
       "      <th></th>\n",
       "      <th>question_type</th>\n",
       "      <th>abstract</th>\n",
       "      <th>generated_question</th>\n",
       "      <th>answer_generation_prompt</th>\n",
       "      <th>answer_generation_filled_prompt</th>\n",
       "      <th>generated_answer</th>\n",
       "      <th>notes</th>\n",
       "    </tr>\n",
       "  </thead>\n",
       "  <tbody>\n",
       "    <tr>\n",
       "      <th>0</th>\n",
       "      <td>\"factoid\"</td>\n",
       "      <td>Given the current status of coronavirus diseas...</td>\n",
       "      <td>What is the relationship between a covid-10 in...</td>\n",
       "      <td>You are an AI assistant that answers questions...</td>\n",
       "      <td>You are an AI assistant that answers questions...</td>\n",
       "      <td>NaN</td>\n",
       "      <td>NaN</td>\n",
       "    </tr>\n",
       "    <tr>\n",
       "      <th>1</th>\n",
       "      <td>\"yes/no\"</td>\n",
       "      <td>Purpose: This study aimed to synthesize qualit...</td>\n",
       "      <td>Can female adolescents with a history of anxie...</td>\n",
       "      <td>You are an AI assistant that answers questions...</td>\n",
       "      <td>You are an AI assistant that answers questions...</td>\n",
       "      <td>NaN</td>\n",
       "      <td>NaN</td>\n",
       "    </tr>\n",
       "    <tr>\n",
       "      <th>2</th>\n",
       "      <td>\"yes/no\"</td>\n",
       "      <td>Introduction: Oropharyngeal dysphagia (OD) is ...</td>\n",
       "      <td>Could the detection of oropharyngeal dysphagia...</td>\n",
       "      <td>You are an AI assistant that answers questions...</td>\n",
       "      <td>You are an AI assistant that answers questions...</td>\n",
       "      <td>NaN</td>\n",
       "      <td>NaN</td>\n",
       "    </tr>\n",
       "    <tr>\n",
       "      <th>3</th>\n",
       "      <td>descriptive</td>\n",
       "      <td>Wandering spleen is a cause of acute surgical ...</td>\n",
       "      <td>Describe a wandering spleen</td>\n",
       "      <td>You are an AI assistant that answers questions...</td>\n",
       "      <td>You are an AI assistant that answers questions...</td>\n",
       "      <td>NaN</td>\n",
       "      <td>NaN</td>\n",
       "    </tr>\n",
       "    <tr>\n",
       "      <th>4</th>\n",
       "      <td>\"factoid\"</td>\n",
       "      <td>Lipodystrophy syndromes are rare, heterogeneou...</td>\n",
       "      <td>What is Lipodystrophy?</td>\n",
       "      <td>You are an AI assistant that answers questions...</td>\n",
       "      <td>You are an AI assistant that answers questions...</td>\n",
       "      <td>NaN</td>\n",
       "      <td>NaN</td>\n",
       "    </tr>\n",
       "  </tbody>\n",
       "</table>\n",
       "</div>"
      ],
      "text/plain": [
       "\n",
       "  question_type                                           abstract  \\\n",
       "\u001b[1;36m0\u001b[0m     \u001b[32m\"factoid\"\u001b[0m  Given the current status of coronavirus diseas\u001b[33m...\u001b[0m   \n",
       "\u001b[1;36m1\u001b[0m      \u001b[32m\"yes/no\"\u001b[0m  Purpose: This study aimed to synthesize qualit\u001b[33m...\u001b[0m   \n",
       "\u001b[1;36m2\u001b[0m      \u001b[32m\"yes/no\"\u001b[0m  Introduction: Oropharyngeal dysphagia \u001b[1m(\u001b[0mOD\u001b[1m)\u001b[0m is \u001b[33m...\u001b[0m   \n",
       "\u001b[1;36m3\u001b[0m   descriptive  Wandering spleen is a cause of acute surgical \u001b[33m...\u001b[0m   \n",
       "\u001b[1;36m4\u001b[0m     \u001b[32m\"factoid\"\u001b[0m  Lipodystrophy syndromes are rare, heterogeneou\u001b[33m...\u001b[0m   \n",
       "\n",
       "                                  generated_question  \\\n",
       "\u001b[1;36m0\u001b[0m  What is the relationship between a covid-\u001b[1;36m10\u001b[0m in\u001b[33m...\u001b[0m   \n",
       "\u001b[1;36m1\u001b[0m  Can female adolescents with a history of anxie\u001b[33m...\u001b[0m   \n",
       "\u001b[1;36m2\u001b[0m  Could the detection of oropharyngeal dysphagia\u001b[33m...\u001b[0m   \n",
       "\u001b[1;36m3\u001b[0m                        Describe a wandering spleen   \n",
       "\u001b[1;36m4\u001b[0m                             What is Lipodystrophy?   \n",
       "\n",
       "                            answer_generation_prompt  \\\n",
       "\u001b[1;36m0\u001b[0m  You are an AI assistant that answers questions\u001b[33m...\u001b[0m   \n",
       "\u001b[1;36m1\u001b[0m  You are an AI assistant that answers questions\u001b[33m...\u001b[0m   \n",
       "\u001b[1;36m2\u001b[0m  You are an AI assistant that answers questions\u001b[33m...\u001b[0m   \n",
       "\u001b[1;36m3\u001b[0m  You are an AI assistant that answers questions\u001b[33m...\u001b[0m   \n",
       "\u001b[1;36m4\u001b[0m  You are an AI assistant that answers questions\u001b[33m...\u001b[0m   \n",
       "\n",
       "                     answer_generation_filled_prompt  generated_answer  notes  \n",
       "\u001b[1;36m0\u001b[0m  You are an AI assistant that answers questions\u001b[33m...\u001b[0m               NaN    NaN  \n",
       "\u001b[1;36m1\u001b[0m  You are an AI assistant that answers questions\u001b[33m...\u001b[0m               NaN    NaN  \n",
       "\u001b[1;36m2\u001b[0m  You are an AI assistant that answers questions\u001b[33m...\u001b[0m               NaN    NaN  \n",
       "\u001b[1;36m3\u001b[0m  You are an AI assistant that answers questions\u001b[33m...\u001b[0m               NaN    NaN  \n",
       "\u001b[1;36m4\u001b[0m  You are an AI assistant that answers questions\u001b[33m...\u001b[0m               NaN    NaN  "
      ]
     },
     "execution_count": 14,
     "metadata": {},
     "output_type": "execute_result"
    }
   ],
   "source": [
    "questions.head()"
   ]
  },
  {
   "cell_type": "code",
   "execution_count": 17,
   "id": "53eb1f34",
   "metadata": {},
   "outputs": [],
   "source": [
    "questions.to_csv('questions_filled_prompt.csv', index=False) "
   ]
  },
  {
   "cell_type": "code",
   "execution_count": 19,
   "id": "260e5cb8",
   "metadata": {},
   "outputs": [
    {
     "data": {
      "text/html": [
       "<pre style=\"white-space:pre;overflow-x:auto;line-height:normal;font-family:Menlo,'DejaVu Sans Mono',consolas,'Courier New',monospace\"></pre>\n"
      ],
      "text/plain": []
     },
     "metadata": {},
     "output_type": "display_data"
    },
    {
     "data": {
      "text/html": [
       "<div>\n",
       "<style scoped>\n",
       "    .dataframe tbody tr th:only-of-type {\n",
       "        vertical-align: middle;\n",
       "    }\n",
       "\n",
       "    .dataframe tbody tr th {\n",
       "        vertical-align: top;\n",
       "    }\n",
       "\n",
       "    .dataframe thead th {\n",
       "        text-align: right;\n",
       "    }\n",
       "</style>\n",
       "<table border=\"1\" class=\"dataframe\">\n",
       "  <thead>\n",
       "    <tr style=\"text-align: right;\">\n",
       "      <th></th>\n",
       "      <th>question_type</th>\n",
       "      <th>abstract</th>\n",
       "      <th>generated_question</th>\n",
       "      <th>answer_generation_prompt</th>\n",
       "      <th>answer_generation_filled_prompt</th>\n",
       "      <th>generated_answer</th>\n",
       "    </tr>\n",
       "  </thead>\n",
       "  <tbody>\n",
       "    <tr>\n",
       "      <th>0</th>\n",
       "      <td>\"factoid\"</td>\n",
       "      <td>Given the current status of coronavirus diseas...</td>\n",
       "      <td>What is the relationship between a covid-10 in...</td>\n",
       "      <td>You are an AI assistant that answers questions...</td>\n",
       "      <td>You are an AI assistant that answers questions...</td>\n",
       "      <td>COVID-19 increases global RNA editing activity...</td>\n",
       "    </tr>\n",
       "    <tr>\n",
       "      <th>1</th>\n",
       "      <td>\"yes/no\"</td>\n",
       "      <td>Purpose: This study aimed to synthesize qualit...</td>\n",
       "      <td>Can female adolescents with a history of anxie...</td>\n",
       "      <td>You are an AI assistant that answers questions...</td>\n",
       "      <td>You are an AI assistant that answers questions...</td>\n",
       "      <td>Yes, female adolescents with anxiety or depres...</td>\n",
       "    </tr>\n",
       "    <tr>\n",
       "      <th>2</th>\n",
       "      <td>\"yes/no\"</td>\n",
       "      <td>Introduction: Oropharyngeal dysphagia (OD) is ...</td>\n",
       "      <td>Could the detection of oropharyngeal dysphagia...</td>\n",
       "      <td>You are an AI assistant that answers questions...</td>\n",
       "      <td>You are an AI assistant that answers questions...</td>\n",
       "      <td>Yes, detecting oropharyngeal dysphagia could r...</td>\n",
       "    </tr>\n",
       "    <tr>\n",
       "      <th>3</th>\n",
       "      <td>descriptive</td>\n",
       "      <td>Wandering spleen is a cause of acute surgical ...</td>\n",
       "      <td>Describe a wandering spleen</td>\n",
       "      <td>You are an AI assistant that answers questions...</td>\n",
       "      <td>You are an AI assistant that answers questions...</td>\n",
       "      <td>Wandering spleen: Displacement due to weak lig...</td>\n",
       "    </tr>\n",
       "    <tr>\n",
       "      <th>4</th>\n",
       "      <td>\"factoid\"</td>\n",
       "      <td>Lipodystrophy syndromes are rare, heterogeneou...</td>\n",
       "      <td>What is Lipodystrophy?</td>\n",
       "      <td>You are an AI assistant that answers questions...</td>\n",
       "      <td>You are an AI assistant that answers questions...</td>\n",
       "      <td>Lipodystrophy: Rare disorders - adipose tissue...</td>\n",
       "    </tr>\n",
       "  </tbody>\n",
       "</table>\n",
       "</div>"
      ],
      "text/plain": [
       "\n",
       "  question_type                                           abstract  \\\n",
       "\u001b[1;36m0\u001b[0m     \u001b[32m\"factoid\"\u001b[0m  Given the current status of coronavirus diseas\u001b[33m...\u001b[0m   \n",
       "\u001b[1;36m1\u001b[0m      \u001b[32m\"yes/no\"\u001b[0m  Purpose: This study aimed to synthesize qualit\u001b[33m...\u001b[0m   \n",
       "\u001b[1;36m2\u001b[0m      \u001b[32m\"yes/no\"\u001b[0m  Introduction: Oropharyngeal dysphagia \u001b[1m(\u001b[0mOD\u001b[1m)\u001b[0m is \u001b[33m...\u001b[0m   \n",
       "\u001b[1;36m3\u001b[0m   descriptive  Wandering spleen is a cause of acute surgical \u001b[33m...\u001b[0m   \n",
       "\u001b[1;36m4\u001b[0m     \u001b[32m\"factoid\"\u001b[0m  Lipodystrophy syndromes are rare, heterogeneou\u001b[33m...\u001b[0m   \n",
       "\n",
       "                                  generated_question  \\\n",
       "\u001b[1;36m0\u001b[0m  What is the relationship between a covid-\u001b[1;36m10\u001b[0m in\u001b[33m...\u001b[0m   \n",
       "\u001b[1;36m1\u001b[0m  Can female adolescents with a history of anxie\u001b[33m...\u001b[0m   \n",
       "\u001b[1;36m2\u001b[0m  Could the detection of oropharyngeal dysphagia\u001b[33m...\u001b[0m   \n",
       "\u001b[1;36m3\u001b[0m                        Describe a wandering spleen   \n",
       "\u001b[1;36m4\u001b[0m                             What is Lipodystrophy?   \n",
       "\n",
       "                            answer_generation_prompt  \\\n",
       "\u001b[1;36m0\u001b[0m  You are an AI assistant that answers questions\u001b[33m...\u001b[0m   \n",
       "\u001b[1;36m1\u001b[0m  You are an AI assistant that answers questions\u001b[33m...\u001b[0m   \n",
       "\u001b[1;36m2\u001b[0m  You are an AI assistant that answers questions\u001b[33m...\u001b[0m   \n",
       "\u001b[1;36m3\u001b[0m  You are an AI assistant that answers questions\u001b[33m...\u001b[0m   \n",
       "\u001b[1;36m4\u001b[0m  You are an AI assistant that answers questions\u001b[33m...\u001b[0m   \n",
       "\n",
       "                     answer_generation_filled_prompt  \\\n",
       "\u001b[1;36m0\u001b[0m  You are an AI assistant that answers questions\u001b[33m...\u001b[0m   \n",
       "\u001b[1;36m1\u001b[0m  You are an AI assistant that answers questions\u001b[33m...\u001b[0m   \n",
       "\u001b[1;36m2\u001b[0m  You are an AI assistant that answers questions\u001b[33m...\u001b[0m   \n",
       "\u001b[1;36m3\u001b[0m  You are an AI assistant that answers questions\u001b[33m...\u001b[0m   \n",
       "\u001b[1;36m4\u001b[0m  You are an AI assistant that answers questions\u001b[33m...\u001b[0m   \n",
       "\n",
       "                                    generated_answer  \n",
       "\u001b[1;36m0\u001b[0m  COVID-\u001b[1;36m19\u001b[0m increases global RNA editing activity\u001b[33m...\u001b[0m  \n",
       "\u001b[1;36m1\u001b[0m  Yes, female adolescents with anxiety or depres\u001b[33m...\u001b[0m  \n",
       "\u001b[1;36m2\u001b[0m  Yes, detecting oropharyngeal dysphagia could r\u001b[33m...\u001b[0m  \n",
       "\u001b[1;36m3\u001b[0m  Wandering spleen: Displacement due to weak lig\u001b[33m...\u001b[0m  \n",
       "\u001b[1;36m4\u001b[0m  Lipodystrophy: Rare disorders - adipose tissue\u001b[33m...\u001b[0m  "
      ]
     },
     "execution_count": 19,
     "metadata": {},
     "output_type": "execute_result"
    }
   ],
   "source": [
    "question_answer_pairs = pd.read_csv(\"questions_filled_prompt - questions_filled_prompt.csv\")\n",
    "question_answer_pairs.head()"
   ]
  },
  {
   "cell_type": "code",
   "execution_count": 31,
   "id": "71d0f6f5",
   "metadata": {},
   "outputs": [],
   "source": [
    "mapping = {'\"factoid\"': 'factoid', '\"yes/no\"': 'yes/no', '\"how\"': 'how'}\n",
    "\n",
    "# Replace the values in the specified column using the mapping\n",
    "question_answer_pairs['question_type'] = question_answer_pairs['question_type'].replace(mapping)"
   ]
  },
  {
   "cell_type": "code",
   "execution_count": 46,
   "id": "3441ec4d",
   "metadata": {},
   "outputs": [
    {
     "data": {
      "text/html": [
       "<pre style=\"white-space:pre;overflow-x:auto;line-height:normal;font-family:Menlo,'DejaVu Sans Mono',consolas,'Courier New',monospace\"></pre>\n"
      ],
      "text/plain": []
     },
     "metadata": {},
     "output_type": "display_data"
    },
    {
     "data": {
      "image/png": "[encoded data removed]",
      "text/plain": [
       "\u001b[1m<\u001b[0m\u001b[1;95mFigure\u001b[0m\u001b[39m size 100\u001b[0m\u001b[1;36m0x600\u001b[0m\u001b[39m with \u001b[0m\u001b[1;36m1\u001b[0m\u001b[39m Axes\u001b[0m\u001b[1m>\u001b[0m"
      ]
     },
     "metadata": {},
     "output_type": "display_data"
    }
   ],
   "source": [
    "import matplotlib.pyplot as plt\n",
    "import seaborn as sns\n",
    "\n",
    "#colors = sns.color_palette(\"black\", len(question_answer_pairs[\"question_type\"].value_counts()))\n",
    "plt.figure(figsize=(10, 6))\n",
    "value_counts = question_answer_pairs[\"question_type\"].value_counts().sort_values(ascending=True)\n",
    "value_counts.plot(kind=\"barh\", color=\"black\", width=0.7)\n",
    "plt.xlabel(\"Count\", fontsize=14)\n",
    "plt.ylabel(\"Question Types\", fontsize=14)\n",
    "plt.yticks(fontsize=12)\n",
    "plt.xticks(ha=\"right\", fontsize=12)\n",
    "plt.grid(alpha=0.3, linestyle=\"--\")\n",
    "\n",
    "plt.savefig(\"question_types.png\", transparent=True)\n",
    "\n",
    "plt.tight_layout()\n",
    "plt.show()"
   ]
  },
  {
   "cell_type": "code",
   "execution_count": null,
   "id": "6beaf4f3",
   "metadata": {},
   "outputs": [],
   "source": []
  }
 ],
 "metadata": {
  "kernelspec": {
   "display_name": "Kedro (kedronlp)",
   "language": "python",
   "name": "kedro_kedronlp"
  },
  "language_info": {
   "codemirror_mode": {
    "name": "ipython",
    "version": 3
   },
   "file_extension": ".py",
   "mimetype": "text/x-python",
   "name": "python",
   "nbconvert_exporter": "python",
   "pygments_lexer": "ipython3",
   "version": "3.11.6"
  }
 },
 "nbformat": 4,
 "nbformat_minor": 5
}
