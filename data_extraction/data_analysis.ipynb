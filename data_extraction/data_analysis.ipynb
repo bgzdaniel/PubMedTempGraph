{
 "cells": [
  {
   "cell_type": "code",
   "execution_count": 1,
   "metadata": {},
   "outputs": [],
   "source": [
    "import os\n",
    "import sys\n",
    "module_path = os.path.abspath(os.path.join('..'))\n",
    "if module_path not in sys.path:\n",
    "    sys.path.append(module_path)"
   ]
  },
  {
   "cell_type": "code",
   "execution_count": 2,
   "metadata": {},
   "outputs": [
    {
     "name": "stdout",
     "output_type": "stream",
     "text": [
      "processing year 2014 ...\n"
     ]
    },
    {
     "name": "stderr",
     "output_type": "stream",
     "text": [
      "100%|██████████| 337297/337297 [02:00<00:00, 2791.75it/s]\n"
     ]
    },
    {
     "name": "stdout",
     "output_type": "stream",
     "text": [
      "processing year 2015 ...\n"
     ]
    },
    {
     "name": "stderr",
     "output_type": "stream",
     "text": [
      "100%|██████████| 334353/334353 [01:49<00:00, 3056.02it/s]\n"
     ]
    },
    {
     "name": "stdout",
     "output_type": "stream",
     "text": [
      "processing year 2016 ...\n"
     ]
    },
    {
     "name": "stderr",
     "output_type": "stream",
     "text": [
      "100%|██████████| 346580/346580 [01:57<00:00, 2945.29it/s]\n"
     ]
    },
    {
     "name": "stdout",
     "output_type": "stream",
     "text": [
      "processing year 2017 ...\n"
     ]
    },
    {
     "name": "stderr",
     "output_type": "stream",
     "text": [
      "100%|██████████| 323600/323600 [01:59<00:00, 2713.83it/s]\n"
     ]
    },
    {
     "name": "stdout",
     "output_type": "stream",
     "text": [
      "processing year 2018 ...\n"
     ]
    },
    {
     "name": "stderr",
     "output_type": "stream",
     "text": [
      "100%|██████████| 324694/324694 [02:28<00:00, 2191.00it/s]\n"
     ]
    },
    {
     "name": "stdout",
     "output_type": "stream",
     "text": [
      "processing year 2019 ...\n"
     ]
    },
    {
     "name": "stderr",
     "output_type": "stream",
     "text": [
      "100%|██████████| 389427/389427 [03:09<00:00, 2050.91it/s]\n"
     ]
    },
    {
     "name": "stdout",
     "output_type": "stream",
     "text": [
      "processing year 2020 ...\n"
     ]
    },
    {
     "name": "stderr",
     "output_type": "stream",
     "text": [
      "100%|██████████| 469698/469698 [03:32<00:00, 2207.24it/s]\n"
     ]
    },
    {
     "name": "stdout",
     "output_type": "stream",
     "text": [
      "processing year 2021 ...\n"
     ]
    },
    {
     "name": "stderr",
     "output_type": "stream",
     "text": [
      "100%|██████████| 486563/486563 [03:49<00:00, 2124.54it/s]\n"
     ]
    },
    {
     "name": "stdout",
     "output_type": "stream",
     "text": [
      "processing year 2022 ...\n"
     ]
    },
    {
     "name": "stderr",
     "output_type": "stream",
     "text": [
      "100%|██████████| 484997/484997 [03:51<00:00, 2093.72it/s]\n"
     ]
    },
    {
     "name": "stdout",
     "output_type": "stream",
     "text": [
      "processing year 2023 ...\n"
     ]
    },
    {
     "name": "stderr",
     "output_type": "stream",
     "text": [
      "100%|██████████| 419869/419869 [03:44<00:00, 1868.57it/s]\n"
     ]
    },
    {
     "name": "stdout",
     "output_type": "stream",
     "text": [
      "processing year 2024 ...\n"
     ]
    },
    {
     "name": "stderr",
     "output_type": "stream",
     "text": [
      "100%|██████████| 90438/90438 [00:52<00:00, 1736.23it/s]\n"
     ]
    }
   ],
   "source": [
    "import csv\n",
    "from utils.preprocess_utils import preprocess_row\n",
    "from spacy.lang.en import English\n",
    "from tqdm import tqdm\n",
    "\n",
    "duplicates = 0\n",
    "invalid_rows = 0\n",
    "invalid_years = 0\n",
    "abstracts_missing = 0\n",
    "tokens_per_abstract = []\n",
    "valid_docs_per_year = {}\n",
    "\n",
    "nlp = English()\n",
    "tokenizer = nlp.tokenizer\n",
    "\n",
    "for year in range(2014, 2025):\n",
    "    abstract_lookup = set()\n",
    "    print(f\"processing year {year} ...\")\n",
    "    with open(f\"{module_path}/data/studies/studies_{year}.csv\", encoding=\"utf-8\") as input_csv:\n",
    "        reader = csv.DictReader(input_csv)\n",
    "        reader_len = 0\n",
    "        for row in reader:\n",
    "            reader_len += 1\n",
    "        input_csv.seek(0)\n",
    "        next(reader)\n",
    "        for row in tqdm(reader, total=reader_len):\n",
    "            try:\n",
    "                row = preprocess_row(row)\n",
    "            except ValueError:\n",
    "                invalid_rows += 1\n",
    "                continue\n",
    "\n",
    "            try:\n",
    "                int(row[\"Year\"])\n",
    "            except ValueError:\n",
    "                invalid_years += 1\n",
    "                continue\n",
    "\n",
    "            if row[\"Abstract\"] == \"NA\" or row[\"Abstract\"] == \"\":\n",
    "                abstracts_missing += 1\n",
    "                continue\n",
    "\n",
    "            if row[\"Abstract\"] in abstract_lookup:\n",
    "                duplicates += 1\n",
    "                continue\n",
    "            else:\n",
    "                abstract_lookup.add(row[\"Abstract\"])\n",
    "\n",
    "            valid_docs_per_year.setdefault(str(year), 0)\n",
    "            valid_docs_per_year[str(year)] += 1\n",
    "            tokens_per_abstract.append(len(tokenizer(row[\"Abstract\"])))"
   ]
  },
  {
   "cell_type": "code",
   "execution_count": 3,
   "metadata": {},
   "outputs": [],
   "source": [
    "del abstract_lookup"
   ]
  },
  {
   "cell_type": "code",
   "execution_count": 4,
   "metadata": {},
   "outputs": [
    {
     "name": "stdout",
     "output_type": "stream",
     "text": [
      "duplicates: 469808\n",
      "invalid_rows: 1\n",
      "invalid_years: 5660\n",
      "abstracts_missing: 311449\n",
      "total_valid_docs: 3220598\n",
      "mean_tokens: 169.3231794219583\n",
      "std_tokens: 118.85919842718796\n",
      "max: 15605\n",
      "min: 1\n",
      "5% quantile: 27.0\n",
      "25% quantile: 61.0\n",
      "50% qunatile: 158.0\n",
      "75% quantile: 257.0\n",
      "95% quantile: 366.0\n"
     ]
    }
   ],
   "source": [
    "import numpy as np\n",
    "\n",
    "print(f\"duplicates: {duplicates}\")\n",
    "print(f\"invalid_rows: {invalid_rows}\")\n",
    "print(f\"invalid_years: {invalid_years}\")\n",
    "print(f\"abstracts_missing: {abstracts_missing}\")\n",
    "print(f\"total_valid_docs: {np.sum(list(valid_docs_per_year.values()))}\")\n",
    "print(f\"mean_tokens: {np.mean(tokens_per_abstract)}\")\n",
    "print(f\"std_tokens: {np.std(tokens_per_abstract)}\")\n",
    "print(f\"max: {np.max(tokens_per_abstract)}\")\n",
    "print(f\"min: {np.min(tokens_per_abstract)}\")\n",
    "print(f\"5% quantile: {np.quantile(tokens_per_abstract, 0.05)}\")\n",
    "print(f\"25% quantile: {np.quantile(tokens_per_abstract, 0.25)}\")\n",
    "print(f\"50% qunatile: {np.quantile(tokens_per_abstract, 0.5)}\")\n",
    "print(f\"75% quantile: {np.quantile(tokens_per_abstract, 0.75)}\")\n",
    "print(f\"95% quantile: {np.quantile(tokens_per_abstract, 0.95)}\")"
   ]
  },
  {
   "cell_type": "code",
   "execution_count": 5,
   "metadata": {},
   "outputs": [
    {
     "data": {
      "image/png": "[encoded data removed]",
      "text/plain": [
       "<Figure size 800x400 with 1 Axes>"
      ]
     },
     "metadata": {},
     "output_type": "display_data"
    }
   ],
   "source": [
    "import matplotlib.pyplot as plt\n",
    "\n",
    "sorted_years_counts = sorted(valid_docs_per_year.items(), key=lambda item: item[0])\n",
    "years = [year for year, _ in sorted_years_counts]\n",
    "counts = [count for _, count in sorted_years_counts]\n",
    "\n",
    "fig, ax = plt.subplots(figsize=(8, 4))\n",
    "ax.bar(years, counts)\n",
    "fig.tight_layout()\n",
    "fig.savefig(f\"{module_path}/data_extraction/bar_chart_docs_per_year.png\")"
   ]
  },
  {
   "cell_type": "code",
   "execution_count": 15,
   "metadata": {},
   "outputs": [
    {
     "data": {
      "image/png": "[encoded data removed]",
      "text/plain": [
       "<Figure size 700x400 with 1 Axes>"
      ]
     },
     "metadata": {},
     "output_type": "display_data"
    }
   ],
   "source": [
    "import matplotlib.pyplot as plt\n",
    "fig, ax = plt.subplots(figsize=(7, 4))\n",
    "ax.boxplot(tokens_per_abstract, vert=False, showmeans=True, meanline=True, showfliers=False)\n",
    "ax.set_xlabel(\"number of tokens\")\n",
    "ax.get_yaxis().set_visible(False)\n",
    "fig.tight_layout()\n",
    "fig.savefig(f\"{module_path}/data_extraction/boxplot_tokens_per_abstract.png\")"
   ]
  }
 ],
 "metadata": {
  "kernelspec": {
   "display_name": ".venv",
   "language": "python",
   "name": "python3"
  },
  "language_info": {
   "codemirror_mode": {
    "name": "ipython",
    "version": 3
   },
   "file_extension": ".py",
   "mimetype": "text/x-python",
   "name": "python",
   "nbconvert_exporter": "python",
   "pygments_lexer": "ipython3",
   "version": "3.11.7"
  }
 },
 "nbformat": 4,
 "nbformat_minor": 2
}
